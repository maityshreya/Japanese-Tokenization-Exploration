{
 "cells": [
  {
   "cell_type": "markdown",
   "id": "7c4b5f96",
   "metadata": {},
   "source": [
    "# Import Libraries"
   ]
  },
  {
   "cell_type": "code",
   "execution_count": null,
   "id": "d604d35c",
   "metadata": {},
   "outputs": [],
   "source": [
    "\n",
    "import pandas as pd\n",
    "import MeCab \n",
    "import sudachipy\n",
    "import sentencepiece as spm\n",
    "from sudachipy import tokenizer\n",
    "from sudachipy import dictionary"
   ]
  },
  {
   "cell_type": "code",
   "execution_count": 8,
   "id": "4c7e796c",
   "metadata": {},
   "outputs": [],
   "source": [
    "# Read input CSV file\n",
    "input_file = 'F:\\\\Matching_technologies\\\\japanese_sentences_sample.csv' \n",
    "df_input = pd.read_csv(input_file)\n"
   ]
  },
  {
   "cell_type": "markdown",
   "id": "7ba89210",
   "metadata": {},
   "source": [
    "# Initialize Mecab, SudachiPy, SentencePiece"
   ]
  },
  {
   "cell_type": "code",
   "execution_count": 7,
   "id": "7bdcec6e",
   "metadata": {},
   "outputs": [],
   "source": [
    "# Initialize MeCab\n",
    "mecab = MeCab.Tagger()\n",
    "\n",
    "# Initialize SudachiPy (using default dictionary)\n",
    "tokenizer_obj = dictionary.Dictionary().create()\n",
    "\n",
    "# Initialize SentencePiece\n",
    "sp = spm.SentencePieceProcessor() "
   ]
  },
  {
   "cell_type": "code",
   "execution_count": 24,
   "id": "6deed100",
   "metadata": {},
   "outputs": [],
   "source": [
    "import sentencepiece as spm\n",
    "\n",
    "# Path to your corpus (a plain text file with sentences)\n",
    "corpus_file = 'corpus.txt'\n",
    "\n",
    "# Train the SentencePiece model\n",
    "spm.SentencePieceTrainer.train(\n",
    "    f'--input={corpus_file} '  # Path to your text corpus\n",
    "    f'--model_prefix=mymodel '  # The prefix for the output model files\n",
    "    f'--vocab_size=240 '  # Size of the vocabulary (you can change this)\n",
    "    f'--character_coverage=0.9995 '  # The percentage of characters covered by the model\n",
    "    f'--model_type=bpe '  # Type of model, can be 'bpe', 'unigram', etc.\n",
    ")\n"
   ]
  },
  {
   "cell_type": "code",
   "execution_count": 35,
   "id": "d1415fb2",
   "metadata": {},
   "outputs": [
    {
     "name": "stdout",
     "output_type": "stream",
     "text": [
      "             こんにちは\n",
      "0          お元気ですか？\n",
      "1      今日はいい天気ですね。\n",
      "2       何を食べたいですか？\n",
      "3  東京に行ったことがありますか？\n",
      "4         明日は休みです。\n",
      "Index(['こんにちは'], dtype='object')\n",
      "Tokenization results saved to 'tokenization_results.csv'\n"
     ]
    }
   ],
   "source": [
    "import pandas as pd\n",
    "import MeCab\n",
    "import sudachipy\n",
    "import sentencepiece as spm\n",
    "from sudachipy import tokenizer\n",
    "from sudachipy import dictionary\n",
    "\n",
    "# Load the SentencePiece model (if you have trained one)\n",
    "sp = spm.SentencePieceProcessor(model_file='mymodel.model')  # Use your trained model\n",
    "\n",
    "# Initialize MeCab tokenizer\n",
    "mecab = MeCab.Tagger()\n",
    "\n",
    "# Initialize SudachiPy tokenizer (using default dictionary)\n",
    "tokenizer_obj = dictionary.Dictionary().create()\n",
    "\n",
    "def tokenize_mecab(text):\n",
    "    # Tokenize with MeCab\n",
    "    nodes = mecab.parse(text).splitlines()\n",
    "    tokens = [node.split('\\t')[0] for node in nodes if node != 'EOS']\n",
    "    return tokens\n",
    "\n",
    "def tokenize_sudachipy(text):\n",
    "    # Tokenize with SudachiPy\n",
    "    mode = tokenizer.Tokenizer.SplitMode.C\n",
    "    tokens = tokenizer_obj.tokenize(text, mode)\n",
    "    return [token.surface() for token in tokens]\n",
    "\n",
    "def tokenize_sentencepiece(text):\n",
    "    # Tokenize with SentencePiece\n",
    "    tokens = sp.encode(text, out_type=str)\n",
    "    return tokens\n",
    "\n",
    "def process_text(text, tokenizer_name):\n",
    "    # Tokenize and process the text using the appropriate tokenizer\n",
    "    if tokenizer_name == 'MeCab':\n",
    "        tokens = tokenize_mecab(text)\n",
    "    elif tokenizer_name == 'SudachiPy':\n",
    "        tokens = tokenize_sudachipy(text)\n",
    "    elif tokenizer_name == 'SentencePiece':\n",
    "        tokens = tokenize_sentencepiece(text)\n",
    "    else:\n",
    "        raise ValueError(\"Unknown tokenizer name\")\n",
    "\n",
    "    # Calculate total token count and unique token count\n",
    "    total_token_count = len(tokens)\n",
    "    unique_token_count = len(set(tokens))\n",
    "\n",
    "    return tokens, total_token_count, unique_token_count\n",
    "\n",
    "# Read the CSV file containing Japanese sentences\n",
    "df = pd.read_csv('japanese_sentences_sample.csv')  # Replace with your actual CSV file\n",
    "print(df.head())\n",
    "print(df.columns)\n",
    "# Prepare a list to collect results\n",
    "results = []\n",
    "# Iterate over each row (sentence) in the DataFrame\n",
    "for index, row in df.iterrows():\n",
    "    text = row['こんにちは']  \n",
    "\n",
    "    # MeCab tokenization\n",
    "    mecab_tokens, mecab_total, mecab_unique = process_text(text, 'MeCab')\n",
    "    results.append([text, 'MeCab', mecab_tokens, mecab_total, mecab_unique])\n",
    "    \n",
    "    # SudachiPy tokenization\n",
    "    sudachi_tokens, sudachi_total, sudachi_unique = process_text(text, 'SudachiPy')\n",
    "    results.append([text, 'SudachiPy', sudachi_tokens, sudachi_total, sudachi_unique])\n",
    "\n",
    "    # SentencePiece tokenization\n",
    "    sentencepiece_tokens, sentencepiece_total, sentencepiece_unique = process_text(text, 'SentencePiece')\n",
    "    results.append([text, 'SentencePiece', sentencepiece_tokens, sentencepiece_total, sentencepiece_unique])\n",
    "\n",
    "# Convert the results into a DataFrame\n",
    "df_results = pd.DataFrame(results, columns=['input_japanese_txt', 'algorithm', 'tokens', 'total_token_count', 'unique_token_count'])\n",
    "\n",
    "# Save the results to a new CSV file\n",
    "df_results.to_csv('tokenization_results.csv', index=False)\n",
    "\n",
    "print(\"Tokenization results saved to 'tokenization_results.csv'\")\n"
   ]
  },
  {
   "cell_type": "code",
   "execution_count": null,
   "id": "ee7b5dc6",
   "metadata": {},
   "outputs": [],
   "source": []
  }
 ],
 "metadata": {
  "kernelspec": {
   "display_name": "base",
   "language": "python",
   "name": "python3"
  },
  "language_info": {
   "codemirror_mode": {
    "name": "ipython",
    "version": 3
   },
   "file_extension": ".py",
   "mimetype": "text/x-python",
   "name": "python",
   "nbconvert_exporter": "python",
   "pygments_lexer": "ipython3",
   "version": "3.12.7"
  }
 },
 "nbformat": 4,
 "nbformat_minor": 5
}
